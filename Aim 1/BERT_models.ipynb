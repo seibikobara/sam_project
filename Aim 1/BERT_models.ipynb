{
 "cells": [
  {
   "cell_type": "code",
   "execution_count": null,
   "metadata": {},
   "outputs": [],
   "source": [
    "pip install transformers"
   ]
  },
  {
   "cell_type": "code",
   "execution_count": null,
   "metadata": {},
   "outputs": [],
   "source": [
    "pip install simpletransformers"
   ]
  },
  {
   "cell_type": "code",
   "execution_count": null,
   "metadata": {},
   "outputs": [],
   "source": [
    "import pandas as pd\n",
    "import numpy as np\n",
    "from sklearn.metrics import accuracy_score, f1_score, classification_report"
   ]
  },
  {
   "cell_type": "code",
   "execution_count": null,
   "metadata": {},
   "outputs": [],
   "source": [
    "train_data = pd.read_csv('/content/drive/MyDrive/BMI 550/Final_project/train.csv')\n",
    "test_data = pd.read_csv('/content/drive/MyDrive/BMI 550/Final_project/test.csv')\n",
    "\n",
    "texts_train_BERT = train_data['text'].tolist()\n",
    "classes_train_BERT = train_data['Class'].tolist()\n",
    "\n",
    "texts_test_BERT = test_data['text'].tolist()\n",
    "classes_test_BERT = test_data['Class'].tolist()"
   ]
  },
  {
   "cell_type": "code",
   "execution_count": null,
   "metadata": {},
   "outputs": [],
   "source": [
    "df_train= pd.read_csv('/content/drive/MyDrive/BMI 550/Final_project/train.csv', usecols=['text', 'Class'])\n",
    "df_test = pd.read_csv('/content/drive/MyDrive/BMI 550/Final_project/test.csv', usecols=['text', 'Class'])"
   ]
  },
  {
   "cell_type": "code",
   "execution_count": null,
   "metadata": {},
   "outputs": [],
   "source": [
    "from simpletransformers.classification import ClassificationModel\n",
    "\n",
    "\n",
    "# Initialize the model\n",
    "model = ClassificationModel(\"bert\", \"bert-cased\", num_labels=2, use_cuda=True, args={'max_seq_length':100,\n",
    "                                                                                          'train_batch_size': 8,\n",
    "                                                                                          'overwrite_output_dir': True,\n",
    "                                                                                           'output_dir': \"/content/drive/MyDrive/BMI 550/BERT\",\n",
    "                                                                                          'num_train_epochs': 40})\n",
    "\n",
    "# Run training\n",
    "model.train_model(df_train)"
   ]
  },
  {
   "cell_type": "code",
   "execution_count": null,
   "metadata": {},
   "outputs": [],
   "source": [
    "test_text=list(df_test['text'])\n",
    "predictions, raw_outputs = model.predict(test_text)\n",
    "print(classification_report(predictions, df_test['Class']))"
   ]
  },
  {
   "cell_type": "code",
   "execution_count": null,
   "metadata": {},
   "outputs": [],
   "source": [
    "model.save_model(\"/content/drive/MyDrive/BMI 550/Final_project/BERT\")"
   ]
  },
  {
   "cell_type": "code",
   "execution_count": null,
   "metadata": {},
   "outputs": [],
   "source": [
    "from simpletransformers.classification import ClassificationModel\n",
    "\n",
    "\n",
    "# Initialize the model\n",
    "model = ClassificationModel(\"bert\", \"bert-large-cased\", num_labels=2, use_cuda=True, args={'max_seq_length':100,\n",
    "                                                                                          'train_batch_size': 8,\n",
    "                                                                                          'overwrite_output_dir': True,\n",
    "                                                                                           'output_dir': \"/content/drive/MyDrive/BMI 550/BERT_large\",\n",
    "                                                                                          'num_train_epochs': 40})\n",
    "\n",
    "# Run training\n",
    "model.train_model(df_train)"
   ]
  },
  {
   "cell_type": "code",
   "execution_count": null,
   "metadata": {},
   "outputs": [],
   "source": [
    "test_text=list(df_test['text'])\n",
    "predictions, raw_outputs = model.predict(test_text)\n",
    "print(classification_report(predictions, df_test['Class']))"
   ]
  },
  {
   "cell_type": "code",
   "execution_count": null,
   "metadata": {},
   "outputs": [],
   "source": [
    "model.save_model(\"/content/drive/MyDrive/BMI 550/Final_project/BERT\")"
   ]
  }
 ],
 "metadata": {
  "kernelspec": {
   "display_name": "Python 3",
   "language": "python",
   "name": "python3"
  },
  "language_info": {
   "name": "python",
   "version": "3.8.8"
  }
 },
 "nbformat": 4,
 "nbformat_minor": 2
}
