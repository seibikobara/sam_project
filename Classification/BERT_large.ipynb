{
 "cells": [
  {
   "cell_type": "code",
   "execution_count": null,
   "metadata": {},
   "outputs": [],
   "source": [
    "import pandas as pd\n",
    "import numpy as np\n",
    "import torch\n",
    "from torch.utils.data import DataLoader, Dataset\n",
    "from transformers import BertTokenizer, BertForSequenceClassification, AdamW\n",
    "from sklearn.metrics import accuracy_score, f1_score"
   ]
  },
  {
   "cell_type": "code",
   "execution_count": null,
   "metadata": {},
   "outputs": [],
   "source": [
    "train_data = pd.read_csv('/content/drive/MyDrive/BMI 550/Final_project/train.csv')\n",
    "test_data = pd.read_csv('/content/drive/MyDrive/BMI 550/Final_project/test.csv')"
   ]
  },
  {
   "cell_type": "code",
   "execution_count": null,
   "metadata": {},
   "outputs": [],
   "source": [
    "texts_train_BERT = train_data['text'].tolist()\n",
    "classes_train_BERT = train_data['Class'].tolist()\n",
    "\n",
    "texts_test_BERT = test_data['text'].tolist()\n",
    "classes_test_BERT = test_data['Class'].tolist()\n",
    "\n",
    "tokenizer = BertTokenizer.from_pretrained('bert-large-cased')\n",
    "print('model_loaded______')\n",
    "train_encodings = tokenizer(texts_train_BERT, truncation=True, padding=True, max_length=100)\n",
    "test_encodings = tokenizer(texts_test_BERT, truncation=True, padding=True, max_length=100)\n",
    "print('Tokenazation done______')\n",
    "class TextDataset(Dataset):\n",
    "    def __init__(self, encodings, labels):\n",
    "        self.encodings = encodings\n",
    "        self.labels = labels\n",
    "\n",
    "    def __getitem__(self, idx):\n",
    "        item = {key: torch.tensor(val[idx]) for key, val in self.encodings.items()}\n",
    "        item['labels'] = torch.tensor(self.labels[idx])\n",
    "        return item\n",
    "\n",
    "    def __len__(self):\n",
    "        return len(self.labels)\n",
    "\n",
    "\n",
    "train_dataset = TextDataset(train_encodings, classes_train_BERT)\n",
    "val_dataset = TextDataset(test_encodings, classes_test_BERT)\n",
    "\n",
    "train_loader = DataLoader(train_dataset, batch_size=8, shuffle=True)\n",
    "val_loader = DataLoader(val_dataset, batch_size=8, shuffle=False)\n",
    "print('Data_loader done______')\n",
    "model = BertForSequenceClassification.from_pretrained('bert-large-cased', num_labels=2)\n",
    "\n",
    "optimizer = AdamW(model.parameters(), lr=5e-5)\n",
    "\n",
    "device = torch.device('cuda' if torch.cuda.is_available() else 'cpu')\n",
    "model.to(device)\n",
    "print('Start training______')\n",
    "for epoch in range(2): \n",
    "    model.train()\n",
    "    for batch in train_loader:\n",
    "        batch = {k: v.to(device) for k, v in batch.items()}\n",
    "        outputs = model(**batch)\n",
    "        loss = outputs.loss\n",
    "        loss.backward()\n",
    "        optimizer.step()\n",
    "        optimizer.zero_grad()\n",
    "\n",
    "    model.eval()\n",
    "    predictions, true_labels = [], []\n",
    "    for batch in val_loader:\n",
    "        batch = {k: v.to(device) for k, v in batch.items()}\n",
    "        with torch.no_grad():\n",
    "            outputs = model(**batch)\n",
    "\n",
    "        logits = outputs.logits\n",
    "        predictions.extend(torch.argmax(logits, dim=-1).tolist())\n",
    "        true_labels.extend(batch['labels'].tolist())\n",
    "\n",
    "    val_accuracy = accuracy_score(true_labels, predictions)\n",
    "    print(f'Epoch {epoch}: Validation Accuracy: {val_accuracy}')\n"
   ]
  },
  {
   "cell_type": "code",
   "execution_count": null,
   "metadata": {},
   "outputs": [],
   "source": [
    "model.save_pretrained('/content/drive/MyDrive/BMI 550/Final_project/BERT_large_model')\n",
    "tokenizer.save_pretrained('/content/drive/MyDrive/BMI 550/Final_project/BERT_large_model')"
   ]
  },
  {
   "cell_type": "code",
   "execution_count": null,
   "metadata": {},
   "outputs": [],
   "source": [
    "model = BertForSequenceClassification.from_pretrained('/content/drive/MyDrive/BMI 550/Final_project/BERT_large_model')\n",
    "tokenizer = BertTokenizer.from_pretrained('/content/drive/MyDrive/BMI 550/Final_project/BERT_large_model')"
   ]
  },
  {
   "cell_type": "code",
   "execution_count": null,
   "metadata": {},
   "outputs": [],
   "source": [
    "def predict(text, model, tokenizer):\n",
    "    inputs = tokenizer(text, padding=True, truncation=True, max_length=100, return_tensors=\"pt\")\n",
    "\n",
    "    with torch.no_grad():\n",
    "        outputs = model(**inputs)\n",
    "\n",
    "    probs = outputs.logits.softmax(dim=-1)\n",
    "    print(probs)\n",
    "    predicted_class = torch.argmax(probs, dim=-1)\n",
    "    return predicted_class\n",
    "\n",
    "predicted_class = predict(texts_test_BERT, model, tokenizer)"
   ]
  },
  {
   "cell_type": "code",
   "execution_count": null,
   "metadata": {},
   "outputs": [],
   "source": [
    "f1_score(classes_test_BERT, predicted_class)\n",
    "accuracy_score(classes_test_BERT, predicted_class)"
   ]
  }
 ],
 "metadata": {
  "language_info": {
   "name": "python"
  }
 },
 "nbformat": 4,
 "nbformat_minor": 2
}
